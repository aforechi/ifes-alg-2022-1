{
  "cells": [
    {
      "cell_type": "markdown",
      "metadata": {
        "id": "view-in-github",
        "colab_type": "text"
      },
      "source": [
        "<a href=\"https://colab.research.google.com/github/aforechi/ifes-alg-2022-1/blob/main/aula-02.ipynb\" target=\"_parent\"><img src=\"https://colab.research.google.com/assets/colab-badge.svg\" alt=\"Open In Colab\"/></a>"
      ]
    },
    {
      "cell_type": "markdown",
      "metadata": {
        "id": "26fpuYt_6jGT"
      },
      "source": [
        "# A Linguagem de Programação Python\n",
        "\n",
        "## Introdução a linguagem Python\n",
        "Criada por Guido van Rossum em 1991\n",
        "\n",
        "## Características da linguagem\n",
        "- Linguagem de Alto Nível Interpretada Programação:\n",
        "    - Estruturada\n",
        "    - Orientada a objetos\n",
        "    - Funcional\n",
        "- Tipagem dinâmica e forte\n",
        "- Vasta coleção de bibliotecas\n",
        "- Código aberto (GPL)\n",
        "- Diversas estruturas de dados nativas lista, tupla, dicionário\n",
        "- Gerenciamento de memória automático \n",
        "- Tratamento de exceções\n",
        "- Sobrecarga de operadores\n",
        "- Indentação para estrutura de bloco \n",
        "- Multiplataforma\n",
        "- Bem documentada\n",
        "\n",
        "  **Muito usada**\n",
        "\n",
        "## Estrutura de um programa \n",
        "\n",
        "- Cabeçalho: contém informações sobre o programa, como o seu nome. \n",
        "    - Equivalente ao nome de uma receita;\n",
        "\n",
        "- Dicionário de dados: define quais são os dados manipulados pelo programa. \n",
        "    - Equivalente aos ingredientes de uma receita: descreve todo o material necessário para o preparo da receita;\n",
        "\n",
        "- Corpo: define os procedimentos que o programa deve executar;\n",
        "    - Equivalente ao modo de preparo: descreve a forma de trabalhar com os ingredientes para que se obtenha o resultado esperado;\n",
        "    \n",
        "- Documentação: explica certos aspectos não muito claros do programa, tanto no corpo do programa quanto no cabeçalho ou no dicionário de dados.\n",
        "    - Equivalente aos comentários sobre procedimentos ou ingredientes: adicionados com o objetivo de detalhar alguma peculiaridade que o cozinheiro poderia não conhecer previamente.\n"
      ]
    },
    {
      "cell_type": "markdown",
      "metadata": {
        "id": "MehXA0qu6jGa"
      },
      "source": [
        "## Estrutura de um programa Python\n",
        "\n",
        "Exemplo: Cálculo das raízes reais de uma equação do segundo grau \n",
        "- Descrição: programa que calcula as raízes reais de uma equação do segundo grau.\n",
        "- Dados de entrada: os coeficientes a, b e c de uma equação da forma $ax^2 + bx + c = 0$\n",
        "- Saída do programa: raízes reais da equação"
      ]
    },
    {
      "cell_type": "code",
      "source": [
        "import math"
      ],
      "metadata": {
        "id": "Fe4mhhqp8t5a"
      },
      "execution_count": 4,
      "outputs": []
    },
    {
      "cell_type": "code",
      "execution_count": 1,
      "metadata": {
        "colab": {
          "base_uri": "https://localhost:8080/",
          "height": 71
        },
        "id": "iNIAxSSa6jGb",
        "outputId": "969f80c3-4f6a-44cc-b380-3af074550c31"
      },
      "outputs": [
        {
          "output_type": "execute_result",
          "data": {
            "text/plain": [
              "' \\n Cálculo das raízes reais de uma equação do segundo grau \\n Descrição: programa que calcula as raízes reais de uma equação do segundo grau.\\n Dados de entrada: os coeficientes a, b e c de uma equação da forma ax^2 + bx + c = 0\\n Saída do programa: raízes reais da equação\\n'"
            ],
            "application/vnd.google.colaboratory.intrinsic+json": {
              "type": "string"
            }
          },
          "metadata": {},
          "execution_count": 1
        }
      ],
      "source": [
        "''' \n",
        " Cálculo das raízes reais de uma equação do segundo grau \n",
        " Descrição: programa que calcula as raízes reais de uma equação do segundo grau.\n",
        " Dados de entrada: os coeficientes a, b e c de uma equação da forma ax^2 + bx + c = 0\n",
        " Saída do programa: raízes reais da equação\n",
        "'''"
      ]
    },
    {
      "cell_type": "code",
      "execution_count": 2,
      "metadata": {
        "id": "DjUmwPj26jGd"
      },
      "outputs": [],
      "source": [
        "# Dicionário de dados\n",
        "a = 10.0 # Coeficiente angular\n",
        "b = 5.0  # Coeficiente linear\n",
        "c = 0.0  # Termo independente"
      ]
    },
    {
      "cell_type": "code",
      "execution_count": 15,
      "metadata": {
        "id": "r2zaCQ0y6jGe"
      },
      "outputs": [],
      "source": [
        "# Cálculo do discriminante (delta)\n",
        "delta = b * b - 4 * a * c"
      ]
    },
    {
      "cell_type": "code",
      "execution_count": 16,
      "metadata": {
        "id": "j0gWqVBZ6jGe"
      },
      "outputs": [],
      "source": [
        "# Cálculo da primeira raiz\n",
        "x1 = (-b + math.sqrt(delta)) / (2.0*a)"
      ]
    },
    {
      "cell_type": "code",
      "execution_count": 17,
      "metadata": {
        "id": "qftklrKO6jGf"
      },
      "outputs": [],
      "source": [
        "# Cálculo da segunda raiz\n",
        "x2 = (-b - math.sqrt(delta)) / (2.0*a)"
      ]
    },
    {
      "cell_type": "markdown",
      "metadata": {
        "id": "tpydpHvd6jGf"
      },
      "source": [
        "## Instruções de entrada de dados\n",
        "\n",
        "Exercício 1: Escreva um programa Python para o usuário informar os valores para os coeficientes \"a\", \"b\" e \"c\" sem precisar modificar o programa."
      ]
    },
    {
      "cell_type": "code",
      "execution_count": 12,
      "metadata": {
        "colab": {
          "base_uri": "https://localhost:8080/"
        },
        "id": "XLs-AuxL6jGg",
        "outputId": "f74217ae-c80e-4c3f-f4ca-6483a75b09c4"
      },
      "outputs": [
        {
          "name": "stdout",
          "output_type": "stream",
          "text": [
            "10\n"
          ]
        }
      ],
      "source": [
        "a = int(input())"
      ]
    },
    {
      "cell_type": "code",
      "execution_count": 13,
      "metadata": {
        "colab": {
          "base_uri": "https://localhost:8080/"
        },
        "id": "KADjCuR76jGh",
        "outputId": "bf64c11f-c548-41d3-fc30-aa568a75da42"
      },
      "outputs": [
        {
          "name": "stdout",
          "output_type": "stream",
          "text": [
            "5\n"
          ]
        }
      ],
      "source": [
        "b = int(input())"
      ]
    },
    {
      "cell_type": "code",
      "execution_count": 14,
      "metadata": {
        "colab": {
          "base_uri": "https://localhost:8080/"
        },
        "id": "6XBua5Ht6jGh",
        "outputId": "5e4d83d9-ae2c-449a-8a9f-d6ad86c98d8d"
      },
      "outputs": [
        {
          "name": "stdout",
          "output_type": "stream",
          "text": [
            "0\n"
          ]
        }
      ],
      "source": [
        "c = int(input())"
      ]
    },
    {
      "cell_type": "markdown",
      "metadata": {
        "id": "O-GLweXP6jGi"
      },
      "source": [
        "\n",
        "## Tipos de dados\n",
        "Os tipos de dados são utilizados para assinalar qual será a forma de tratamento dispensada aos dados em memória em termos, por exemplo, de tamanho.\n",
        "Os dados podem assumir seis tipos básicos em C que são: \n",
        "- int: Número inteiro é o tipo padrão \n",
        "- float: Número em ponto flutuante de precisão simples. São conhecidos normalmente como números reais\n",
        "- complex: Números complexos com parte real e imaginária.\n",
        "- bool: Lógico. O valor armazenado é verdadeiro (True) ou falso (False)\n",
        "- str: Caracteres na forma de palavras, letras, simbolos, etc\n",
        "\n",
        "## Operadores aritméticos\n",
        "| Operador | Descrição |\n",
        "| --- | --- |\n",
        "| - | Subtração |\n",
        "| + | Adição |\n",
        "| * | Multiplicação |\n",
        "| / | Divisão |\n",
        "| % | Resto de uma divisão inteira |\n",
        "| // | Quociente de uma divisão inteira |\n",
        "| ** | Exponenciação |\n",
        "\n",
        "**Ordem de precedência:**\n",
        "<br>Mais alta\n",
        "<br>( )\n",
        "<br>\\**\n",
        "<br>\\- (menos unário)\n",
        "<br>* / %\n",
        "<br>\\+ -\n",
        "<br>Mais baixa\n",
        "\n"
      ]
    },
    {
      "cell_type": "markdown",
      "metadata": {
        "id": "F_ngeAQJ6jGj"
      },
      "source": [
        "### Os parênteses alteram a ordem de avaliação\n",
        "\n",
        "    Exemplo: 4/2*5+1"
      ]
    },
    {
      "cell_type": "code",
      "execution_count": 18,
      "metadata": {
        "colab": {
          "base_uri": "https://localhost:8080/"
        },
        "id": "AolFpa_K6jGk",
        "outputId": "0acdc94f-4e5b-419f-df1f-48e4a343c40c"
      },
      "outputs": [
        {
          "output_type": "execute_result",
          "data": {
            "text/plain": [
              "11.0"
            ]
          },
          "metadata": {},
          "execution_count": 18
        }
      ],
      "source": [
        "4/2*5+1"
      ]
    },
    {
      "cell_type": "markdown",
      "metadata": {
        "id": "9JQ6m_m96jGk"
      },
      "source": [
        "    Exemplo: 4/2*(5+1)"
      ]
    },
    {
      "cell_type": "code",
      "execution_count": 19,
      "metadata": {
        "colab": {
          "base_uri": "https://localhost:8080/"
        },
        "id": "-R8Yh8Ko6jGl",
        "outputId": "2b4c31fd-358c-45f3-d5fa-b91435384ef4"
      },
      "outputs": [
        {
          "output_type": "execute_result",
          "data": {
            "text/plain": [
              "12.0"
            ]
          },
          "metadata": {},
          "execution_count": 19
        }
      ],
      "source": [
        "4/2*(5+1)"
      ]
    },
    {
      "cell_type": "markdown",
      "metadata": {
        "id": "yO8stzsA6jGm"
      },
      "source": [
        "## Instruções de saída de dados\n",
        "\n",
        "Exercício 1: Escreva um programa Python para exibir na tela a mensagem \"Olá, mundo!\"."
      ]
    },
    {
      "cell_type": "code",
      "execution_count": 25,
      "metadata": {
        "colab": {
          "base_uri": "https://localhost:8080/"
        },
        "id": "-gjaquno6jGm",
        "outputId": "d63e009f-678b-449d-f7fd-1904c1249b64"
      },
      "outputs": [
        {
          "output_type": "stream",
          "name": "stdout",
          "text": [
            "Olá, mundo!\n",
            "Esta citação possui aspas simples (') e duplas (\").\n"
          ]
        }
      ],
      "source": [
        "''' Exibir uma mensagem '''\n",
        "\n",
        "print( 'Olá, mundo!' )\n",
        "\n",
        "print('''Esta citação possui aspas simples (') e duplas (\").''')"
      ]
    },
    {
      "cell_type": "markdown",
      "metadata": {
        "id": "FhVc_Ho06jGn"
      },
      "source": [
        "**Constantes de caracteres de barra invertida:**\n",
        "<br>\\\\n       Nova linha\n",
        "<br>\\\\t        Tabulação.\n",
        "<br>\\\\”       Aspas duplas\n",
        "<br>\\\\’        Aspas simples\n",
        "<br>\\\\n\\n    Linha em branco.\n",
        "\n",
        "Exemplo 2: Escreva um programa para exibir a seguinte tela:\n",
        "<br>Instituto Federal do Espírito Santo\n",
        "<br>Curso de Engenharia Mecânica\n",
        "<br>Alunos   Notas\n",
        "<br>A &nbsp;&nbsp;&nbsp;&nbsp;&nbsp;&nbsp;&nbsp;&nbsp; 8.0\n",
        "<br>B &nbsp;&nbsp;&nbsp;&nbsp;&nbsp;&nbsp;&nbsp;&nbsp; 5.5 \n"
      ]
    },
    {
      "cell_type": "code",
      "execution_count": 23,
      "metadata": {
        "colab": {
          "base_uri": "https://localhost:8080/"
        },
        "id": "jO0sLDsC6jGn",
        "outputId": "197281ae-2318-414d-88d4-8c79210d1aba"
      },
      "outputs": [
        {
          "output_type": "stream",
          "name": "stdout",
          "text": [
            "Instituto Federal do Espirito Santo\n",
            "\n",
            "Curso de Engenharia Mecanica\n",
            "\n",
            " Alunos \t \t Notas \n",
            "\n",
            " A \t \t \t 8 \n",
            "\n",
            " B \t \t \t 5.5 \n",
            "\n"
          ]
        }
      ],
      "source": [
        "print( \"Instituto Federal do Espirito Santo\\n\" )\n",
        "print( \"Curso de Engenharia Mecanica\\n\" )\n",
        "print( \" Alunos \\t \\t Notas \\n\" )\n",
        "print( \" A \\t \\t \\t 8 \\n\" )\n",
        "print( \" B \\t \\t \\t 5.5 \\n\" )"
      ]
    },
    {
      "cell_type": "markdown",
      "metadata": {
        "id": "Ni-ApHbL6jGo"
      },
      "source": [
        "## Boas práticas de programação\n",
        "\n",
        "- Comente seus códigos para que possam ser reutilizados por outros programadores.\n",
        "- Use identação para isolar conteúdos de blocos\n",
        "- Use o menor número de instruções\n",
        "- Seja claro e objetivo\n"
      ]
    },
    {
      "cell_type": "code",
      "execution_count": null,
      "metadata": {
        "id": "K8BixD9y6jGp"
      },
      "outputs": [],
      "source": [
        ""
      ]
    }
  ],
  "metadata": {
    "kernelspec": {
      "display_name": "Python 3",
      "name": "python3"
    },
    "language_info": {
      "name": "python"
    },
    "colab": {
      "name": "aula-02.ipynb",
      "provenance": [],
      "include_colab_link": true
    }
  },
  "nbformat": 4,
  "nbformat_minor": 0
}