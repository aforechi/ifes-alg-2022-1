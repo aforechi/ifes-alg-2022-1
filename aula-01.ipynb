{
 "cells": [
  {
   "cell_type": "markdown",
   "metadata": {
    "colab_type": "text",
    "id": "view-in-github"
   },
   "source": [
    "<a href=\"https://colab.research.google.com/github/aforechi/ifes-alg-2022-1/blob/main/aula-01.ipynb\" target=\"_parent\"><img src=\"https://colab.research.google.com/assets/colab-badge.svg\" alt=\"Open In Colab\"/></a>"
   ]
  },
  {
   "cell_type": "markdown",
   "metadata": {},
   "source": [
    "# Resolução de Equações\n",
    "\n",
    "## Equação da Reta\n",
    "\n",
    "Uma reta $r$ pode ser representada por uma equação do tipo \n",
    "\n",
    "$$ax + by - c = 0$$\n",
    "\n",
    "Um ponto $P = (x, y)$ pertence à reta $r$ se, e somente se, suas coordenadas satisfazem a relação anterior.\n",
    "\n",
    "### Exemplo: A reta $-2.0x + 1.5y - 1.0 = 0$ pode ser expressa em Python da seguinte forma:"
   ]
  },
  {
   "cell_type": "code",
   "execution_count": null,
   "metadata": {},
   "outputs": [],
   "source": [
    "a = -2.0\n",
    "b = 1.5\n",
    "c = 1.0\n",
    "x = 1.0\n",
    "y = 2.0"
   ]
  },
  {
   "cell_type": "code",
   "execution_count": null,
   "metadata": {},
   "outputs": [],
   "source": [
    "a*x + b*y - c"
   ]
  },
  {
   "cell_type": "markdown",
   "metadata": {},
   "source": [
    "### Exercício: O ponto $P = (7, 1)$ pertence à reta $x-2y=5$?"
   ]
  },
  {
   "cell_type": "code",
   "execution_count": null,
   "metadata": {},
   "outputs": [],
   "source": []
  },
  {
   "cell_type": "markdown",
   "metadata": {},
   "source": [
    "### Exercício: Altere os valores de \"a\", \"b\" e \"c\" para 1, -2 e 5, respectivamente. "
   ]
  },
  {
   "cell_type": "code",
   "execution_count": null,
   "metadata": {},
   "outputs": [],
   "source": [
    "a = 1.0\n",
    "b = -2.0\n",
    "c = 5.0\n",
    "x = 5.0\n",
    "y = 0.0"
   ]
  },
  {
   "cell_type": "markdown",
   "metadata": {},
   "source": [
    "É correto afirmar que:\n",
    "- O ponto (5, 0) pertence à reta. \n",
    "- O ponto (5, 0) é o ponto onde a reta intercepta eixo x. \n",
    "- O ponto (0, -2.5) é o ponto a reta intercepta o eixo y. "
   ]
  },
  {
   "cell_type": "code",
   "execution_count": null,
   "metadata": {},
   "outputs": [],
   "source": [
    "a*x + b*y - c"
   ]
  },
  {
   "cell_type": "code",
   "execution_count": null,
   "metadata": {},
   "outputs": [],
   "source": [
    "c/a"
   ]
  },
  {
   "cell_type": "code",
   "execution_count": null,
   "metadata": {},
   "outputs": [],
   "source": [
    "c/b"
   ]
  },
  {
   "cell_type": "markdown",
   "metadata": {},
   "source": [
    "## Movimento Uniformemente Variado\n",
    "\n",
    "      Também conhecido como movimento acelerado, consiste em um movimento onde há variação de velocidade, ou seja, o objeto sofre aceleração à medida que o tempo passa.\n",
    "\n",
    "      Mas se essa variação de velocidade for sempre igual em intervalos de tempo iguais, então dizemos que este é um Movimento Uniformemente Variado (também chamado de Movimento Uniformemente Acelerado), ou seja, que tem aceleração constante e diferente de zero.\n",
    "\n",
    "      O conceito físico de aceleração, difere um pouco do conceito que se tem no cotidiano. Na física, acelerar significa basicamente mudar de velocidade, tanto tornando-a maior, como também menor. Já no cotidiano, quando pensamos em acelerar algo, estamos nos referindo a um aumento na velocidade.\n",
    "      \n",
    "A posição do objeto em cada instante $T$ será dada pela função $S = S_0 + V_0t + \\frac{1}{2}AT^2$\n"
   ]
  },
  {
   "cell_type": "markdown",
   "metadata": {},
   "source": [
    "### Exercício: Um objeto descreve uma trajetória com aceleração constante de 2 m/s². Sabendo que o objeto passa pelo ponto A de uma marcação com velocidade de 7 m/s, o espaço percorrido por esse objeto após 4 segundos de movimento é de? "
   ]
  },
  {
   "cell_type": "code",
   "execution_count": null,
   "metadata": {},
   "outputs": [],
   "source": [
    "A = 2.0\n",
    "V0 = 7.0\n",
    "T = 4.0"
   ]
  },
  {
   "cell_type": "code",
   "execution_count": null,
   "metadata": {},
   "outputs": [],
   "source": [
    "V0*T + 0.5*A*T*T"
   ]
  },
  {
   "cell_type": "markdown",
   "metadata": {},
   "source": [
    "### Exercício: Um carro A se encontra em repouso em uma rodovia, quando passa por ele outro carro B com velocidade constante de 10m/s. No instante da passagem de B por A, o carro A inicia um movimento uniformemente variado, com aceleração de 2 m/s ao quadrado. O tempo em segundos e o espaço metros necessário para o carro A alcançar o carro B é respectivamente de? "
   ]
  },
  {
   "cell_type": "code",
   "execution_count": null,
   "metadata": {},
   "outputs": [],
   "source": [
    "V0 = 0.0\n",
    "V = 10.0\n",
    "A = 2.0"
   ]
  },
  {
   "cell_type": "markdown",
   "metadata": {},
   "source": [
    "Considerando $S_A = S_0 + V_0t + \\frac{1}{2}AT^2$ e $S_B = S_0 + Vt$, queremos determinar T quando $S_A=S_B$."
   ]
  },
  {
   "cell_type": "code",
   "execution_count": null,
   "metadata": {},
   "outputs": [],
   "source": [
    "T = 2.0*V/A"
   ]
  },
  {
   "cell_type": "code",
   "execution_count": null,
   "metadata": {},
   "outputs": [],
   "source": [
    "V0*T + 0.5*A*T*T"
   ]
  },
  {
   "cell_type": "markdown",
   "metadata": {},
   "source": [
    "### Exercício: Um carro partindo da posição 4m em uma estrada orientada, tem uma velocidade inicial de 10 m/s e uma desaceleração constante de 3m/s². Qual o espaço percorrido pelo carro quando t= 4s? Quanto tempo é necessário para o carro parar?\n",
    "\n",
    "    Resposta: 20m e 3,3s"
   ]
  },
  {
   "cell_type": "code",
   "execution_count": null,
   "metadata": {},
   "outputs": [],
   "source": []
  }
 ],
 "metadata": {
  "interpreter": {
   "hash": "3eff86f7d56a3e94ed81ced4cffb0c2b918a139fd63842cda9f109bad3b3ace2"
  },
  "kernelspec": {
   "display_name": "C++14",
   "language": "python",
   "name": "python3"
  },
  "language_info": {
   "codemirror_mode": {
    "name": "ipython",
    "version": 3
   },
   "file_extension": ".py",
   "mimetype": "text/x-python",
   "name": "python",
   "nbconvert_exporter": "python",
   "pygments_lexer": "ipython3",
   "version": "3.8.8"
  }
 },
 "nbformat": 4,
 "nbformat_minor": 4
}
