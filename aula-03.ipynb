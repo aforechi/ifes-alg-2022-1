{
  "cells": [
    {
      "cell_type": "markdown",
      "metadata": {
        "id": "view-in-github",
        "colab_type": "text"
      },
      "source": [
        "<a href=\"https://colab.research.google.com/github/aforechi/ifes-alg-2022-1/blob/main/aula-03.ipynb\" target=\"_parent\"><img src=\"https://colab.research.google.com/assets/colab-badge.svg\" alt=\"Open In Colab\"/></a>"
      ]
    },
    {
      "cell_type": "markdown",
      "metadata": {
        "id": "6dfh3XCyFUU8"
      },
      "source": [
        "# Aula 3: Variáveis\n",
        "## Conceitos de variáveis\n",
        "- Uma variável é um espaço de memória endereçado utilizado para guardar um valor variável, isto é, que pode ser modificado pelo programa. \n",
        "- Uma variável é caracterizada pelo seu identificador e pelo tipo de dados que armazena.\n",
        "- O identificador é o nome utilizado por um programa para reconhecer a posição de memória de uma variável. \n",
        "- Já o tipo de dado de que uma variável armazena é um indicador de tamanho dessa variável.\n",
        "\n",
        "## Identificadores\n",
        "- Os identificadores são rótulos definidos por usuários atribuídos a variáveis, funções e outros componentes de um programa.\n",
        "- O primeiro caracter de um identificador deve ser uma letra ou underline (_). Os demais podem ser letras, números ou underline. \n",
        "- Um identificador não pode ser igual a uma palavra-chave reservada da linguagem e não deve ter o mesmo nome que as funções de bibliotecas da linguagem e de funções definidas por usuários.\n",
        "- A linguagem Python é \"case sensitive\", isto é, faz diferença entre maiúsculas e minúsculas. \n",
        "\n",
        "<table>\n",
        "<tr><th>and</th>    <th>del</th>         <th>from</th>        <th>None</th>        <th>True</th> </tr>\n",
        "<tr><th>as</th>     <th>elif</th>         <th>global</th>       <th>nonlocal</th>     <th>try</th> </tr>\n",
        "<tr><th>assert      <th>else</th>        <th>if</th>          <th>not</th>         <th>while</th>\n",
        "<tr><th>break</th>       <th>except</th>      <th>import</th>      <th>or</th>          <th>with</th>\n",
        "<tr><th>class</th>       <th>False</th>       <th>in</th>          <th>pass</th>        <th>yield</th>\n",
        "<tr><th>continue</th>    <th>finally</th>     <th>is</th>          <th>raise</th>\n",
        "<tr><th>def</th>         <th>for</th>         <th>lambda</th>      <th>return</th>\n",
        "</table>\n",
        "\n",
        "\n",
        "## Declaração de variáveis\n",
        "Declarar variáveis significa reservar posições de memória que serão utilizadas por um programa. Na declaração de variáveis em um programa Python, devem ser definidos nome e valor de uma variável da seguinte forma:\n",
        "\n",
        "    nome_da_variavel = valor_da_variavel"
      ]
    },
    {
      "cell_type": "code",
      "execution_count": 1,
      "metadata": {
        "id": "1FKBexXMFUVH"
      },
      "outputs": [],
      "source": [
        "idade = 20"
      ]
    },
    {
      "cell_type": "markdown",
      "metadata": {
        "id": "nsBLBS3PFUVN"
      },
      "source": [
        "## O operador atribuição (=)\n",
        "- O operador de atribuição (=) tem o propósito de atribuir valores a variáveis. \n",
        "- O operador atribuição é aplicado com a seguinte notação:\n",
        "    nome_da_variavel = expressao;\n",
        "- O operador de atribuição é utilizado para inicializar variáveis e/ou modificá-las.\n",
        "\n",
        "Exemplos:"
      ]
    },
    {
      "cell_type": "code",
      "execution_count": 2,
      "metadata": {
        "id": "Ib4kKbtbFUVO"
      },
      "outputs": [],
      "source": [
        "v1 = 100     # A variável v1 é inicializada com valor 100\n",
        "v1 = 200     # O valor 200 é atribuído à variável v1.\n",
        "v1 = v1 + 1  # v1 recebe o seu valor antigo somado 1 .\n"
      ]
    },
    {
      "cell_type": "markdown",
      "metadata": {
        "id": "Kdk4FHbNFUVP"
      },
      "source": [
        "## Conversão de tipo de dados\n",
        "- A linguagem Python possui as seguintes formas de conversão.\n",
        "\n",
        "| Comando | Descrição |\n",
        "| --- | --- |\n",
        "|ascii()| Retorna uma string contendo uma representação imprimível de uma variável|\n",
        "|bin()| Converte um inteiro em uma string binária|\n",
        "|bool()| Converte um argumento em um valor booleano|\n",
        "|chr()| Retorna a representação de string do caractere dado pelo argumento inteiro|\n",
        "|complex()| Retorna um número complexo construído a partir de argumentos|\n",
        "|float()| Retorna uma variável de ponto flutuante construído a partir de um número ou string|\n",
        "|hex()| Converte um inteiro em uma string hexadecimal|\n",
        "|int()| Retorna uma variável inteira construído a partir de um número ou string|\n",
        "|oct()| Converte um inteiro em uma string octal|\n",
        "|ord()| Retorna a representação inteira de um caractere|\n",
        "|repr()| Retorna uma string contendo uma representação imprimível de uma variável|\n",
        "|str()| Retorna uma versão string de uma variável de outro tipo|\n",
        "|type()| Retorna o tipo de uma variável ou cria um novo tipo de dados|"
      ]
    },
    {
      "cell_type": "code",
      "execution_count": 3,
      "metadata": {
        "id": "GLcRc0GnFUVQ"
      },
      "outputs": [],
      "source": [
        "a = int('10') "
      ]
    },
    {
      "cell_type": "markdown",
      "metadata": {
        "id": "bzVqI6LrFUVy"
      },
      "source": [
        "## Operadores de Atribuição\n",
        "\n",
        "|Operador|Descrição|Exemplo de uso|Equivale a|\n",
        "|---|---|---|---|\n",
        "|=|Atribui um valor a uma variável|x = 1| |\n",
        "|+=|Adiciona ao valor anterior de uma variável outro valor|x += 5|x = x + 5|\n",
        "|-=|Subtrai do valor anterior de uma variável outro valor|x -= 5|x = x – 5|\n",
        "|*=|Multiplica o valor anterior de uma variável por outro valor|x *= 5|x = x * 5|\n",
        "|/=|Divide o valor anterior de uma variável por outro valor|x /= 5|x = x / 5|\n",
        "|%=|Atribui ao valor de uma variável o resto da divisão do valor anterior dela quando dividido por outro valor|x %= 5|x = x % 5|"
      ]
    },
    {
      "cell_type": "code",
      "execution_count": 4,
      "metadata": {
        "id": "li36j-JqFUVz"
      },
      "outputs": [],
      "source": [
        "x = 0\n",
        "x += 5"
      ]
    },
    {
      "cell_type": "markdown",
      "metadata": {
        "id": "NdHe8inNFUVz"
      },
      "source": [
        "## Boas práticas de programação\n",
        "- Declare variáveis com letras minúsculas e constantes com letras maiúsculas.\n",
        "- Coloque comentários no código\n",
        "- Sempre coloque uma mensagem antes da entrada de dados.\n",
        "- Armazene resultados de fórmulas em variáveis\n",
        "\n",
        "## Exercícios resolvidos\n",
        "\n",
        "O volume de uma esfera com raio r é dados pela fórmula $\\frac43 \\pi r^3$. Qual é o volume de uma esfera com raio 5? Utilize a variavel **math.pi**"
      ]
    },
    {
      "cell_type": "code",
      "execution_count": null,
      "metadata": {
        "id": "M4Hrvkm2FUV0"
      },
      "outputs": [],
      "source": [
        ""
      ]
    },
    {
      "cell_type": "markdown",
      "metadata": {
        "id": "2hA3jMGyFUV1"
      },
      "source": [
        "Escreva um programa Python para calcular a média entre três números."
      ]
    },
    {
      "cell_type": "code",
      "execution_count": 6,
      "metadata": {
        "colab": {
          "base_uri": "https://localhost:8080/"
        },
        "id": "zoTOxWJjFUV2",
        "outputId": "6233f248-8f59-45f1-fb99-0c9fc3b90c29"
      },
      "outputs": [
        {
          "output_type": "stream",
          "name": "stdout",
          "text": [
            "Média :  27.666666666666668\n"
          ]
        }
      ],
      "source": [
        "# Primeiro número:\n",
        "n1 = 20;\n",
        "    \n",
        "# Segundo número:\n",
        "n2 = 30;\n",
        "\n",
        "# Terceiro número:\n",
        "n3 = 33;\n",
        "\n",
        "media = (n1 + n2 + n3)/3;\n",
        "print( \"Média : \", media)"
      ]
    },
    {
      "cell_type": "markdown",
      "metadata": {
        "id": "HYJrN-fyFUV2"
      },
      "source": [
        "## Exercícios propostos\n",
        "\n",
        "- Criar um algoritmo que imprima :\n",
        "    - seu nome.\n",
        "    - o produto entre 28 e 43.\n",
        "    - a média aritmética entre os números 8, 9 e 7.\n",
        "- Criar um algoritmo que dado um número inteiro, imprima seu sucessor e seu antecessor.\n",
        "- Criar um algoritmo que dado dois números inteiros, imprima o primeiro como dividendo, o segundo como divisor, e o quociente e o resto da operação."
      ]
    },
    {
      "cell_type": "code",
      "execution_count": null,
      "metadata": {
        "id": "YxUhYv3kFUV4"
      },
      "outputs": [],
      "source": [
        "auto soma = 3 + 4;"
      ]
    },
    {
      "cell_type": "code",
      "execution_count": null,
      "metadata": {
        "id": "lJM6pAXYFUV4"
      },
      "outputs": [],
      "source": [
        "auto soma_real = 3.0 + 4.0;"
      ]
    },
    {
      "cell_type": "code",
      "execution_count": null,
      "metadata": {
        "id": "k9o6qRZ7FUV5",
        "outputId": "5d67182f-8488-4bf4-e0d4-9e2a0ff64092"
      },
      "outputs": [
        {
          "data": {
            "text/plain": [
              "7.0000000"
            ]
          },
          "execution_count": 6,
          "metadata": {},
          "output_type": "execute_result"
        }
      ],
      "source": [
        "soma_real"
      ]
    },
    {
      "cell_type": "code",
      "execution_count": null,
      "metadata": {
        "id": "HHoAAwGkFUV7",
        "outputId": "f718d528-2f85-492d-9b22-f653102cf667"
      },
      "outputs": [
        {
          "data": {
            "text/plain": [
              "7"
            ]
          },
          "execution_count": 7,
          "metadata": {},
          "output_type": "execute_result"
        }
      ],
      "source": [
        "soma"
      ]
    },
    {
      "cell_type": "code",
      "execution_count": null,
      "metadata": {
        "id": "6C2yNEeqFUV7"
      },
      "outputs": [],
      "source": [
        "auto caracter = 'A';"
      ]
    },
    {
      "cell_type": "code",
      "execution_count": null,
      "metadata": {
        "id": "wUq9UPcBFUV8",
        "outputId": "5d5ed204-ec17-4ccd-beb2-188dbd1012d6"
      },
      "outputs": [
        {
          "data": {
            "text/plain": [
              "'A'"
            ]
          },
          "execution_count": 9,
          "metadata": {},
          "output_type": "execute_result"
        }
      ],
      "source": [
        "caracter"
      ]
    },
    {
      "cell_type": "code",
      "execution_count": null,
      "metadata": {
        "id": "zMGO2wwTFUV9"
      },
      "outputs": [],
      "source": [
        "bool esta_chovendo = false;"
      ]
    },
    {
      "cell_type": "code",
      "execution_count": null,
      "metadata": {
        "id": "PUx7g1v1FUV9",
        "outputId": "c3606eeb-f0dc-4e7e-8c3e-a29661a934bb"
      },
      "outputs": [
        {
          "data": {
            "text/plain": [
              "false"
            ]
          },
          "execution_count": 11,
          "metadata": {},
          "output_type": "execute_result"
        }
      ],
      "source": [
        "esta_chovendo"
      ]
    },
    {
      "cell_type": "code",
      "execution_count": null,
      "metadata": {
        "id": "7p-KNBJkFUV_"
      },
      "outputs": [],
      "source": [
        "auto esta_dando_sol = true;"
      ]
    },
    {
      "cell_type": "code",
      "execution_count": null,
      "metadata": {
        "id": "lzAwF7hRFUWA",
        "outputId": "3096ab6f-b6ec-4646-d226-6fafbf641f47"
      },
      "outputs": [
        {
          "data": {
            "text/plain": [
              "true"
            ]
          },
          "execution_count": 13,
          "metadata": {},
          "output_type": "execute_result"
        }
      ],
      "source": [
        "esta_dando_sol"
      ]
    },
    {
      "cell_type": "code",
      "execution_count": null,
      "metadata": {
        "id": "eus-TNxrFUWC"
      },
      "outputs": [],
      "source": [
        "esta_dando_sol = 0.0;"
      ]
    },
    {
      "cell_type": "code",
      "execution_count": null,
      "metadata": {
        "id": "LMIKvFpKFUWD",
        "outputId": "69e2583e-97e5-4932-9d70-4e0065ccbfec"
      },
      "outputs": [
        {
          "data": {
            "text/plain": [
              "false"
            ]
          },
          "execution_count": 17,
          "metadata": {},
          "output_type": "execute_result"
        }
      ],
      "source": [
        "esta_dando_sol"
      ]
    },
    {
      "cell_type": "code",
      "execution_count": null,
      "metadata": {
        "id": "oDw_YLcFFUWE"
      },
      "outputs": [],
      "source": [
        "bool noite = false;"
      ]
    },
    {
      "cell_type": "code",
      "execution_count": null,
      "metadata": {
        "id": "WCOUimf_FUWF"
      },
      "outputs": [],
      "source": [
        "noite = 19;"
      ]
    },
    {
      "cell_type": "code",
      "execution_count": null,
      "metadata": {
        "id": "8GqRFP8eFUWF",
        "outputId": "65240c96-a086-47be-a61d-2bf22aa48094"
      },
      "outputs": [
        {
          "data": {
            "text/plain": [
              "true"
            ]
          },
          "execution_count": 21,
          "metadata": {},
          "output_type": "execute_result"
        }
      ],
      "source": [
        "noite"
      ]
    },
    {
      "cell_type": "code",
      "execution_count": null,
      "metadata": {
        "id": "MJXEvdVyFUWG"
      },
      "outputs": [],
      "source": [
        "auto hora_atual = 10;"
      ]
    },
    {
      "cell_type": "code",
      "execution_count": null,
      "metadata": {
        "id": "-gadimrLFUWG"
      },
      "outputs": [],
      "source": [
        "noite = hora_atual >= 18;"
      ]
    },
    {
      "cell_type": "code",
      "execution_count": null,
      "metadata": {
        "id": "WSbpiTe1FUWH",
        "outputId": "e2809053-a7af-4509-a97e-9950fb04562a"
      },
      "outputs": [
        {
          "data": {
            "text/plain": [
              "true"
            ]
          },
          "execution_count": 34,
          "metadata": {},
          "output_type": "execute_result"
        }
      ],
      "source": [
        "noite"
      ]
    },
    {
      "cell_type": "code",
      "execution_count": null,
      "metadata": {
        "id": "nOAawf-lFUWI"
      },
      "outputs": [],
      "source": [
        "hora_atual = 18;"
      ]
    },
    {
      "cell_type": "code",
      "execution_count": null,
      "metadata": {
        "id": "LlZ0IZF4FUWJ",
        "outputId": "b0662ec9-6d5a-4387-80cd-73e24543ba22"
      },
      "outputs": [
        {
          "data": {
            "text/plain": [
              "7"
            ]
          },
          "execution_count": 35,
          "metadata": {},
          "output_type": "execute_result"
        }
      ],
      "source": [
        "3+4"
      ]
    },
    {
      "cell_type": "code",
      "execution_count": null,
      "metadata": {
        "id": "GuNLsAwyFUWJ",
        "outputId": "9608c143-4f2c-4435-a34c-0821367f3233"
      },
      "outputs": [
        {
          "data": {
            "text/plain": [
              "false"
            ]
          },
          "execution_count": 38,
          "metadata": {},
          "output_type": "execute_result"
        }
      ],
      "source": [
        "true && false // e lógico"
      ]
    },
    {
      "cell_type": "code",
      "execution_count": null,
      "metadata": {
        "id": "2DsdMbb3FUWK",
        "outputId": "74e8f345-ab73-48d0-b8d4-6f8eef77145d"
      },
      "outputs": [
        {
          "data": {
            "text/plain": [
              "false"
            ]
          },
          "execution_count": 39,
          "metadata": {},
          "output_type": "execute_result"
        }
      ],
      "source": [
        "false || false // ou lógico"
      ]
    },
    {
      "cell_type": "code",
      "execution_count": null,
      "metadata": {
        "id": "AFhJgaGZFUWL"
      },
      "outputs": [],
      "source": [
        "#include <iostream>"
      ]
    },
    {
      "cell_type": "code",
      "execution_count": null,
      "metadata": {
        "id": "C7kgFqpsFUWL",
        "outputId": "00adc6a4-fc70-4a48-88a3-79fc4626a51a"
      },
      "outputs": [
        {
          "name": "stdout",
          "output_type": "stream",
          "text": [
            "1"
          ]
        }
      ],
      "source": [
        "std::cout << (true);"
      ]
    },
    {
      "cell_type": "code",
      "execution_count": null,
      "metadata": {
        "id": "F65M4RcOFUWM"
      },
      "outputs": [],
      "source": [
        ""
      ]
    }
  ],
  "metadata": {
    "kernelspec": {
      "display_name": "Python 3",
      "name": "python3"
    },
    "language_info": {
      "name": "python"
    },
    "colab": {
      "name": "aula-03.ipynb",
      "provenance": [],
      "include_colab_link": true
    }
  },
  "nbformat": 4,
  "nbformat_minor": 0
}