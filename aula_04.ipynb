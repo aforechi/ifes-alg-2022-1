{
  "cells": [
    {
      "cell_type": "markdown",
      "metadata": {
        "id": "view-in-github",
        "colab_type": "text"
      },
      "source": [
        "<a href=\"https://colab.research.google.com/github/aforechi/ifes-alg-2022-1/blob/main/aula_04a.ipynb\" target=\"_parent\"><img src=\"https://colab.research.google.com/assets/colab-badge.svg\" alt=\"Open In Colab\"/></a>"
      ]
    },
    {
      "cell_type": "markdown",
      "metadata": {
        "id": "uLd9RyIg2HbY"
      },
      "source": [
        "# Aula 4: Precisão Numérica em Computadores\n",
        "\n",
        "Exercício: Resolva o somatório a seguir e compare com o resultado obtido pelo algoritmo.\n",
        "\n",
        "$\\sum_{i=1}^{1000} 0.1$"
      ]
    },
    {
      "cell_type": "code",
      "execution_count": 1,
      "metadata": {
        "colab": {
          "base_uri": "https://localhost:8080/"
        },
        "id": "8XsjF3qh2Hbb",
        "outputId": "7864615e-339b-4b89-f6bb-8c3bdbb3ec5c"
      },
      "outputs": [
        {
          "output_type": "execute_result",
          "data": {
            "text/plain": [
              "100.0"
            ]
          },
          "metadata": {},
          "execution_count": 1
        }
      ],
      "source": [
        "1000.0*0.1"
      ]
    },
    {
      "cell_type": "markdown",
      "metadata": {
        "id": "EPIvtYaY2Hbd"
      },
      "source": [
        "Espera-se que o resultado seja o equivalente a $ 1000 \\times 0.1 $, mas o que se observa é um erro cumulativo nas mil somas que não ocorre na multiplicação."
      ]
    },
    {
      "cell_type": "code",
      "execution_count": 2,
      "metadata": {
        "colab": {
          "base_uri": "https://localhost:8080/"
        },
        "id": "C-Toi4bD2Hbe",
        "outputId": "064a5aa9-ec6a-4f83-c648-baf88d7248d9"
      },
      "outputs": [
        {
          "output_type": "execute_result",
          "data": {
            "text/plain": [
              "99.9999999999986"
            ]
          },
          "metadata": {},
          "execution_count": 2
        }
      ],
      "source": [
        "soma = 0.0\n",
        "\n",
        "i=1\n",
        "\n",
        "while(i <= 1000):\n",
        "    soma=soma+0.1\n",
        "    i=i+1\n",
        "\n",
        "\n",
        "soma"
      ]
    },
    {
      "cell_type": "markdown",
      "metadata": {
        "id": "rdva8fKE2HcE"
      },
      "source": [
        "Contudo, a representação do número decimal 0.1 em binário consiste em uma dízima periódica: $(0.1)_{10} = (0.0001100110011...)_2$, que ao ser convertido de volta equivale aproximadamente a $0.0999999$."
      ]
    },
    {
      "cell_type": "code",
      "execution_count": 3,
      "metadata": {
        "colab": {
          "base_uri": "https://localhost:8080/"
        },
        "id": "d-_lbhzP2HcF",
        "outputId": "a98d1a0e-2eb1-468b-de48-a9a9bbf03ada"
      },
      "outputs": [
        {
          "output_type": "execute_result",
          "data": {
            "text/plain": [
              "99.9999"
            ]
          },
          "metadata": {},
          "execution_count": 3
        }
      ],
      "source": [
        "0.0999999*1000"
      ]
    },
    {
      "cell_type": "markdown",
      "metadata": {
        "id": "4iesyUQE2HcH"
      },
      "source": [
        "# Exercícios propostos\n",
        "- Digite numero inteiro de tres digitos e encontre o algarismo das dezenas usando os operadores divisão e resto.\n"
      ]
    },
    {
      "cell_type": "code",
      "execution_count": null,
      "metadata": {
        "id": "PMiNuW052HcI"
      },
      "outputs": [],
      "source": [
        ""
      ]
    }
  ],
  "metadata": {
    "kernelspec": {
      "display_name": "Python 3",
      "name": "python3"
    },
    "language_info": {
      "name": "python"
    },
    "colab": {
      "name": "aula-04a.ipynb",
      "provenance": [],
      "collapsed_sections": [],
      "include_colab_link": true
    }
  },
  "nbformat": 4,
  "nbformat_minor": 0
}