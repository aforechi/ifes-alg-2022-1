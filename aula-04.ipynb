{
  "cells": [
    {
      "cell_type": "markdown",
      "metadata": {
        "colab_type": "text",
        "id": "view-in-github"
      },
      "source": [
        "<a href=\"https://colab.research.google.com/github/aforechi/ifes-alg-2022-1/blob/main/aula_04a.ipynb\" target=\"_parent\"><img src=\"https://colab.research.google.com/assets/colab-badge.svg\" alt=\"Open In Colab\"/></a>"
      ]
    },
    {
      "cell_type": "markdown",
      "metadata": {
        "id": "uLd9RyIg2HbY"
      },
      "source": [
        "# Aula 4: Precisão Numérica em Computadores\n",
        "\n",
        "Exercício: Resolva o somatório a seguir e compare com o resultado obtido pelo algoritmo.\n",
        "\n",
        "$\\sum_{i=1}^{1000} 0.1$"
      ]
    },
    {
      "cell_type": "code",
      "execution_count": 1,
      "metadata": {
        "colab": {
          "base_uri": "https://localhost:8080/"
        },
        "id": "8XsjF3qh2Hbb",
        "outputId": "7864615e-339b-4b89-f6bb-8c3bdbb3ec5c"
      },
      "outputs": [
        {
          "data": {
            "text/plain": [
              "100.0"
            ]
          },
          "execution_count": 1,
          "metadata": {},
          "output_type": "execute_result"
        }
      ],
      "source": [
        "0.1*1000.0"
      ]
    },
    {
      "cell_type": "markdown",
      "metadata": {
        "id": "EPIvtYaY2Hbd"
      },
      "source": [
        "Espera-se que o resultado seja o equivalente a $ 1000 \\times 0.1 $, mas o que se observa é um erro cumulativo nas mil somas que não ocorre na multiplicação."
      ]
    },
    {
      "cell_type": "code",
      "execution_count": 4,
      "metadata": {},
      "outputs": [],
      "source": [
        "soma = [0.1]*1000"
      ]
    },
    {
      "cell_type": "code",
      "execution_count": 5,
      "metadata": {},
      "outputs": [],
      "source": [
        "soma = sum(soma)"
      ]
    },
    {
      "cell_type": "code",
      "execution_count": 6,
      "metadata": {},
      "outputs": [
        {
          "name": "stdout",
          "output_type": "stream",
          "text": [
            "99.9999999999986\n"
          ]
        }
      ],
      "source": [
        "print(soma)"
      ]
    },
    {
      "cell_type": "markdown",
      "metadata": {
        "id": "rdva8fKE2HcE"
      },
      "source": [
        "Contudo, a representação do número decimal 0.1 em binário consiste em uma dízima periódica: $(0.1)_{10} = (0.0001100110011...)_2$, que ao ser convertido de volta equivale aproximadamente a $0.0999999$."
      ]
    },
    {
      "cell_type": "code",
      "execution_count": 3,
      "metadata": {
        "colab": {
          "base_uri": "https://localhost:8080/"
        },
        "id": "d-_lbhzP2HcF",
        "outputId": "a98d1a0e-2eb1-468b-de48-a9a9bbf03ada"
      },
      "outputs": [
        {
          "data": {
            "text/plain": [
              "99.9999"
            ]
          },
          "execution_count": 3,
          "metadata": {},
          "output_type": "execute_result"
        }
      ],
      "source": [
        "0.0999999*1000"
      ]
    },
    {
      "cell_type": "markdown",
      "metadata": {
        "id": "4iesyUQE2HcH"
      },
      "source": [
        "# Exercícios propostos\n",
        "- Exercício 1: Digite numero inteiro de tres digitos e encontre o algarismo das dezenas usando os operadores divisão e resto.\n",
        "\n",
        "## Algoritmo\n",
        "    Passo 1: Crie uma variável que armazene numero inteiro qualquer com três digitos.\n",
        "    Passo 2: Escreva uma expressão matemática para descobrir o algarismo das dezenas usando apenas os operadores divisão (/) e resto (%) \n",
        "    Passo 3: Imprima na tela o algarismo das dezenas. \n"
      ]
    },
    {
      "cell_type": "markdown",
      "metadata": {},
      "source": [
        "\n",
        "- Exercício 2: Converta o algarismo das dezenas da base decimal para binário usando apenas os operadores algebricos da linguagem."
      ]
    },
    {
      "cell_type": "code",
      "execution_count": null,
      "metadata": {
        "id": "PMiNuW052HcI"
      },
      "outputs": [],
      "source": []
    }
  ],
  "metadata": {
    "colab": {
      "collapsed_sections": [],
      "include_colab_link": true,
      "name": "aula-04a.ipynb",
      "provenance": []
    },
    "kernelspec": {
      "display_name": "Python 3",
      "name": "python3"
    },
    "language_info": {
      "codemirror_mode": {
        "name": "ipython",
        "version": 3
      },
      "file_extension": ".py",
      "mimetype": "text/x-python",
      "name": "python",
      "nbconvert_exporter": "python",
      "pygments_lexer": "ipython3",
      "version": "3.9.10"
    }
  },
  "nbformat": 4,
  "nbformat_minor": 0
}
