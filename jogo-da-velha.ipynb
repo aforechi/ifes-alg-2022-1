{
  "cells": [
    {
      "cell_type": "markdown",
      "metadata": {
        "id": "view-in-github",
        "colab_type": "text"
      },
      "source": [
        "<a href=\"https://colab.research.google.com/github/aforechi/ifes-alg-2022-1/blob/main/jogo-da-velha.ipynb\" target=\"_parent\"><img src=\"https://colab.research.google.com/assets/colab-badge.svg\" alt=\"Open In Colab\"/></a>"
      ]
    },
    {
      "cell_type": "markdown",
      "metadata": {
        "id": "h3DdRVRU2Lli"
      },
      "source": [
        "# Jogo da Velha"
      ]
    },
    {
      "cell_type": "markdown",
      "metadata": {
        "id": "JfCmJbIY2LmE"
      },
      "source": [
        "\n",
        "## Você saberia fazer um jogo da velha em Python?\n",
        "\n",
        "- Qual estrutura de dados usaríamos para armazenar as jogadas no tabuleiro?\n",
        "- Qual valor escolheriamos para representar cada jogador?\n",
        "- Como faríamos para o computador conseguir jogar sozinho contra si mesmo?\n"
      ]
    },
    {
      "cell_type": "code",
      "execution_count": 1,
      "metadata": {
        "id": "qB64ZSt22LmF"
      },
      "outputs": [],
      "source": [
        "def iniciar():\n",
        "    matriz = []\n",
        "    for i in range(3):\n",
        "        matriz.append( [-1] * 3 )\n",
        "    return matriz\n"
      ]
    },
    {
      "cell_type": "code",
      "source": [
        "def empate(matriz):\n",
        "    for linha in matriz:\n",
        "        for posicao in linha:\n",
        "            if posicao == -1:\n",
        "                return False\n",
        "    return True"
      ],
      "metadata": {
        "id": "3IMSwosd94WC"
      },
      "execution_count": 2,
      "outputs": []
    },
    {
      "cell_type": "code",
      "execution_count": 3,
      "metadata": {
        "id": "u9ow3zwc2LmF"
      },
      "outputs": [],
      "source": [
        "def vencedor(matriz):\n",
        "    # testa se há vencedor nas linhas\n",
        "    for i in range(3):\n",
        "        if (matriz[i][0] == matriz[i][1]) and (matriz[i][1] == matriz[i][2]) and (matriz[i][1] != -1):\n",
        "            return True\n",
        "    \n",
        "    # testa se há vencedor nas colunas\n",
        "    for j in range(3):\n",
        "        if (matriz[0][j] == matriz[1][j]) and (matriz[1][j] == matriz[2][j]) and (matriz[1][j] != -1):\n",
        "            return True\n",
        "\n",
        "    # testa se há vencedor na diagonal principal\n",
        "    if (matriz[0][0] == matriz[1][1]) and (matriz[1][1] == matriz[2][2]) and (matriz[1][1] != -1):\n",
        "        return True\n",
        "\n",
        "    # testa se há vencedor na diagonal secundária\n",
        "    if (matriz[0][2] == matriz[1][1]) and (matriz[1][1] == matriz[2][0]) and (matriz[1][1] != -1):\n",
        "        return True\n",
        "\n",
        "    return False"
      ]
    },
    {
      "cell_type": "code",
      "execution_count": 4,
      "metadata": {
        "id": "xgI7qaXP2LmG"
      },
      "outputs": [],
      "source": [
        "def jogada(matriz):\n",
        "    i = randint(0,2)\n",
        "    j = randint(0,2)\n",
        "    while matriz[i][j] != -1:\n",
        "        i = randint(0,2)\n",
        "        j = randint(0,2)\n",
        "    return i, j"
      ]
    },
    {
      "cell_type": "code",
      "execution_count": 5,
      "metadata": {
        "id": "-6aWlG-62LmG"
      },
      "outputs": [],
      "source": [
        "from random import randint\n",
        "\n",
        "matriz = iniciar()\n",
        "while not (empate(matriz) or vencedor(matriz)):\n",
        "    # primeiro jogador O\n",
        "    i, j = jogada(matriz)\n",
        "    matriz[i][j] = 0\n",
        "    # segundo jogador X\n",
        "    i, j = jogada(matriz)\n",
        "    matriz[i][j] = 1\n"
      ]
    },
    {
      "cell_type": "markdown",
      "source": [
        "Faça uma função para imprimir o Tabuleiro"
      ],
      "metadata": {
        "id": "ieJvFIjA-5wB"
      }
    },
    {
      "cell_type": "markdown",
      "source": [
        "Faça uma função para imprimir o Vencedor"
      ],
      "metadata": {
        "id": "X7sybIIgACtv"
      }
    },
    {
      "cell_type": "markdown",
      "source": [
        "Faça uma função para imprimir a Jogada Vencedora"
      ],
      "metadata": {
        "id": "mjnyZEJAAJaY"
      }
    },
    {
      "cell_type": "markdown",
      "source": [
        "Faça um novo loop principal para que o usuário jogue contra o computador"
      ],
      "metadata": {
        "id": "ZEI35xM1BP8j"
      }
    },
    {
      "cell_type": "code",
      "source": [
        ""
      ],
      "metadata": {
        "id": "mEdvl5yUAO2x"
      },
      "execution_count": 5,
      "outputs": []
    }
  ],
  "metadata": {
    "kernelspec": {
      "display_name": "Python 3",
      "name": "python3"
    },
    "language_info": {
      "name": "python"
    },
    "colab": {
      "name": "jogo-da-velha.ipynb",
      "provenance": [],
      "collapsed_sections": [],
      "include_colab_link": true
    },
    "gpuClass": "standard"
  },
  "nbformat": 4,
  "nbformat_minor": 0
}