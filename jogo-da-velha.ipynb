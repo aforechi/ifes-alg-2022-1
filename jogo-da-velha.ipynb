{
 "cells": [
  {
   "cell_type": "markdown",
   "metadata": {
    "colab_type": "text",
    "id": "view-in-github"
   },
   "source": [
    "<a href=\"https://colab.research.google.com/github/aforechi/ifes-alg-2022-1/blob/main/jogo-da-velha.ipynb\" target=\"_parent\"><img src=\"https://colab.research.google.com/assets/colab-badge.svg\" alt=\"Open In Colab\"/></a>"
   ]
  },
  {
   "cell_type": "markdown",
   "metadata": {
    "id": "h3DdRVRU2Lli"
   },
   "source": [
    "# Jogo da Velha"
   ]
  },
  {
   "cell_type": "markdown",
   "metadata": {
    "id": "JfCmJbIY2LmE"
   },
   "source": [
    "\n",
    "## Você saberia fazer um jogo da velha em Python?\n",
    "\n",
    "- Qual estrutura de dados usaríamos para armazenar as jogadas no tabuleiro?\n",
    "- Qual valor escolheriamos para representar cada jogador?\n",
    "- Como faríamos para o computador conseguir jogar sozinho contra si mesmo?\n"
   ]
  },
  {
   "cell_type": "code",
   "execution_count": null,
   "metadata": {
    "id": "qB64ZSt22LmF"
   },
   "outputs": [],
   "source": [
    "def inicio():\n",
    "    tabuleiro = []\n",
    "    for i in range(3):\n",
    "        tabuleiro.append( [-1] * 3 )\n",
    "    return tabuleiro\n"
   ]
  },
  {
   "cell_type": "code",
   "execution_count": null,
   "metadata": {
    "id": "3IMSwosd94WC"
   },
   "outputs": [],
   "source": [
    "def fim(tabuleiro):\n",
    "    for linha in tabuleiro:\n",
    "        for posicao in linha:\n",
    "            if posicao == -1:\n",
    "                return False\n",
    "    return True"
   ]
  },
  {
   "cell_type": "code",
   "execution_count": null,
   "metadata": {
    "id": "u9ow3zwc2LmF"
   },
   "outputs": [],
   "source": [
    "def venceu(tabuleiro):\n",
    "    # testa se há vencedor nas linhas\n",
    "    for i in range(3):\n",
    "        if (tabuleiro[i][0] == tabuleiro[i][1]) and (tabuleiro[i][1] == tabuleiro[i][2]) and (tabuleiro[i][1] != -1):\n",
    "            return True\n",
    "    \n",
    "    # testa se há vencedor nas colunas\n",
    "    for j in range(3):\n",
    "        if (tabuleiro[0][j] == tabuleiro[1][j]) and (tabuleiro[1][j] == tabuleiro[2][j]) and (tabuleiro[1][j] != -1):\n",
    "            return True\n",
    "\n",
    "    # testa se há vencedor na diagonal principal\n",
    "    if (tabuleiro[0][0] == tabuleiro[1][1]) and (tabuleiro[1][1] == tabuleiro[2][2]) and (tabuleiro[1][1] != -1):\n",
    "        return True\n",
    "\n",
    "    # testa se há vencedor na diagonal secundária\n",
    "    if (tabuleiro[0][2] == tabuleiro[1][1]) and (tabuleiro[1][1] == tabuleiro[2][0]) and (tabuleiro[1][1] != -1):\n",
    "        return True\n",
    "\n",
    "    return False"
   ]
  },
  {
   "cell_type": "code",
   "execution_count": null,
   "metadata": {
    "id": "xgI7qaXP2LmG"
   },
   "outputs": [],
   "source": [
    "def jogada(tabuleiro):\n",
    "    i = randint(0,2)\n",
    "    j = randint(0,2)\n",
    "    while tabuleiro[i][j] != -1:\n",
    "        i = randint(0,2)\n",
    "        j = randint(0,2)\n",
    "    return i, j"
   ]
  },
  {
   "cell_type": "code",
   "execution_count": null,
   "metadata": {
    "id": "-6aWlG-62LmG"
   },
   "outputs": [],
   "source": [
    "from random import randint\n",
    "\n",
    "jogo = inicio()\n",
    "while not fim(jogo):\n",
    "    # primeiro jogador O\n",
    "    i, j = jogada(jogo)\n",
    "    jogo[i][j] = 0\n",
    "    if venceu(jogo):\n",
    "        break\n",
    "    # segundo jogador X\n",
    "    i, j = jogada(jogo)\n",
    "    jogo[i][j] = 1\n",
    "    if venceu(jogo):\n",
    "        break\n"
   ]
  },
  {
   "cell_type": "markdown",
   "metadata": {
    "id": "ieJvFIjA-5wB"
   },
   "source": [
    "Faça uma função para imprimir o Tabuleiro"
   ]
  },
  {
   "cell_type": "markdown",
   "metadata": {
    "id": "X7sybIIgACtv"
   },
   "source": [
    "Faça uma função para imprimir o Vencedor"
   ]
  },
  {
   "cell_type": "markdown",
   "metadata": {
    "id": "mjnyZEJAAJaY"
   },
   "source": [
    "Faça uma função para imprimir a Jogada Vencedora"
   ]
  },
  {
   "cell_type": "markdown",
   "metadata": {
    "id": "ZEI35xM1BP8j"
   },
   "source": [
    "Faça um novo loop principal para que o usuário jogue contra o computador"
   ]
  }
 ],
 "metadata": {
  "colab": {
   "collapsed_sections": [],
   "include_colab_link": true,
   "name": "jogo-da-velha.ipynb",
   "provenance": []
  },
  "gpuClass": "standard",
  "kernelspec": {
   "display_name": "Python 3",
   "language": "python",
   "name": "python3"
  },
  "language_info": {
   "codemirror_mode": {
    "name": "ipython",
    "version": 3
   },
   "file_extension": ".py",
   "mimetype": "text/x-python",
   "name": "python",
   "nbconvert_exporter": "python",
   "pygments_lexer": "ipython3",
   "version": "3.8.8"
  }
 },
 "nbformat": 4,
 "nbformat_minor": 4
}
